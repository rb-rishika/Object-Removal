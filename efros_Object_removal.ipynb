{
  "nbformat": 4,
  "nbformat_minor": 0,
  "metadata": {
    "colab": {
      "name": "efros_Object_removal.ipynb",
      "provenance": [],
      "collapsed_sections": []
    },
    "kernelspec": {
      "name": "python3",
      "display_name": "Python 3"
    },
    "language_info": {
      "name": "python"
    }
  },
  "cells": [
    {
      "cell_type": "code",
      "execution_count": 8,
      "metadata": {
        "colab": {
          "base_uri": "https://localhost:8080/"
        },
        "id": "0htjxhQthWwN",
        "outputId": "62692b09-cc90-49c4-cf99-0f00ec45c1ac"
      },
      "outputs": [
        {
          "output_type": "stream",
          "name": "stdout",
          "text": [
            "Drive already mounted at /content/gdrive; to attempt to forcibly remount, call drive.mount(\"/content/gdrive\", force_remount=True).\n"
          ]
        }
      ],
      "source": [
        "import time\n",
        "import matplotlib.pyplot as plt\n",
        "import numpy as np\n",
        "from skimage import io, morphology, exposure, color\n",
        "import random\n",
        "import sys\n",
        "from math import ceil,floor\n",
        "import logging\n",
        "from logging.config import dictConfig\n",
        "from google.colab import drive\n",
        "import copy\n",
        "import cv2\n",
        "drive.mount('/content/gdrive')\n"
      ]
    },
    {
      "cell_type": "code",
      "source": [
        "def textureGrowth(imageFile, windowSize, Path):\n",
        "\n",
        "    img = imageFile\n",
        "    #reducing image to 0-1 range\n",
        "    img = img/255.0     \n",
        "    print(np.shape(img))\n",
        "           \n",
        "    row, col = np.shape(img)\n",
        "    Error_Threshold = 0.1\n",
        "    Maximum_Error_Threshold = 0.3\n",
        "    sigma = windowSize/6.4\n",
        "    seed = 3\n",
        "    halfWindow = windowSize// 2\n",
        "    #total filled pixels\n",
        "    row,col = img.shape\n",
        "    totalPixels = row*col\n",
        "    \n",
        "\n",
        "    synthesizedImage = copy.copy(img)\n",
        "    filledMap = np.ceil(img)\n",
        "    filledPixels = np.sum(filledMap)\n",
        "    bestNeigh = sliding_window_object_removal(img,filledMap,halfWindow)\n",
        "\n",
        "    #adding padding to handle edge cases\n",
        "    synthImagePad = np.lib.pad(synthesizedImage, halfWindow, mode='constant', constant_values=0)\n",
        "    filledMapPad = np.lib.pad(filledMap, halfWindow, mode='constant', constant_values=0)\n",
        "\n",
        "    gaussMask = GaussMask(windowSize,sigma)\n",
        "\n",
        "    # Run a while loop till all our pixels are filled\n",
        "    while filledPixels < totalPixels:\n",
        "        progress = False\n",
        "\n",
        "        pixelList = np.nonzero(morphology.binary_dilation(filledMap) - filledMap)\n",
        "        neighbors = []\n",
        "        neighbors.append([np.sum(filledMap[pixelList[0][i] - halfWindow : pixelList[0][i] + halfWindow + 1, pixelList[1][i] - halfWindow : pixelList[1][i] + halfWindow + 1]) for i in range(len(pixelList[0]))])\n",
        "        l1 = np.argsort(-np.array(neighbors, dtype=int)) #unfilled neighbours in descending order\n",
        "\n",
        "        for i in l1[0]:\n",
        "\n",
        "            template = synthImagePad[pixelList[0][i] - halfWindow + halfWindow:pixelList[0][i] + halfWindow + halfWindow + 1, pixelList[1][i] - halfWindow + halfWindow:pixelList[1][i] + halfWindow + halfWindow + 1]\n",
        "            validMask = filledMapPad[pixelList[0][i] - halfWindow + halfWindow:pixelList[0][i] + halfWindow + halfWindow + 1, pixelList[1][i] - halfWindow + halfWindow:pixelList[1][i] + halfWindow + halfWindow + 1]\n",
        "            bestMatches = findMatches(template,bestNeigh,validMask,gaussMask,windowSize, halfWindow, Error_Threshold)\n",
        "            # Random picking of best matches\n",
        "            bestMatch = random.randint(0, len(bestMatches)-1)\n",
        "            if bestMatches[bestMatch][0]<=Maximum_Error_Threshold:\n",
        "                synthImagePad[halfWindow+pixelList[0][i]][halfWindow+pixelList[1][i]] = bestMatches[bestMatch][1]\n",
        "                synthesizedImage[pixelList[0][i]][pixelList[1][i]] = bestMatches[bestMatch][1]\n",
        "                filledMapPad[halfWindow+pixelList[0][i]][halfWindow+pixelList[1][i]] = 1\n",
        "                filledMap[pixelList[0][i]][pixelList[1][i]] = 1\n",
        "                filledPixels+=1\n",
        "                progress = True\n",
        "        if not progress:\n",
        "            #Increainf threshold if no progress.\n",
        "            Maximum_Error_Threshold *= 1.1\n",
        "        i = (filledPixels/totalPixels)*100\n",
        "        sys.stdout.write(\"\\r%d%%\" % i)\n",
        "        sys.stdout.flush()\n",
        "    io.imsave(Path.split('.')[0]+\"-\"+str(windowSize)+\"-question3.bmp\", synthesizedImage*255.0)\n",
        "    plt.show()\n",
        "    return\n"
      ],
      "metadata": {
        "id": "YlCqa0r9ipTN"
      },
      "execution_count": 27,
      "outputs": []
    },
    {
      "cell_type": "code",
      "source": [
        "def GaussMask(windowSize, sigma):\n",
        "    x, y = np.mgrid[-windowSize//2 + 1:windowSize//2 + 1, -windowSize//2 + 1:windowSize//2 + 1]\n",
        "    g = np.exp(-((x**2 + y**2)/(2.0*sigma**2)))\n",
        "    return g/g.sum()\n"
      ],
      "metadata": {
        "id": "3GNbhDPKix3Y"
      },
      "execution_count": 3,
      "outputs": []
    },
    {
      "cell_type": "code",
      "source": [
        "\n",
        "def sliding_window_object_removal(SampleImage, is_filled,n):\n",
        "    src_window_matrix = []\n",
        "    c = 0\n",
        "    for i in range(n, SampleImage.shape[0] - n - 1):\n",
        "        for j in range(n, SampleImage.shape[1] - n - 1):\n",
        "            if 0 in is_filled[i - n:i + n + 1, j - n: j + n + 1]:\n",
        "                c = c + 1\n",
        "            else:\n",
        "                src_window_matrix.append(np.reshape(\n",
        "                    SampleImage[i - n:i + n + 1, j - n: j + n + 1],\n",
        "                    (2 * n + 1) ** 2))\n",
        "    \n",
        "    return np.double(src_window_matrix)\n"
      ],
      "metadata": {
        "id": "ubIG0HIJi1HC"
      },
      "execution_count": 6,
      "outputs": []
    },
    {
      "cell_type": "code",
      "source": [
        "\n",
        "def findMatches(template,bestNeigh, valid_mask, gauss_mask, windowSize, halfWindow, Error_Threshold):\n",
        "    template = np.reshape(template, windowSize*windowSize)\n",
        "    gauss_mask = np.reshape(gauss_mask, windowSize*windowSize)\n",
        "    valid_mask = np.reshape(valid_mask, windowSize*windowSize)\n",
        "    total_weight = np.sum(np.multiply(gauss_mask, valid_mask))\n",
        "    distance = (bestNeigh-template)**2\n",
        "    ssd = np.sum((distance*gauss_mask*valid_mask) / total_weight, axis=1)\n",
        "    min_error = min(ssd)\n",
        "    j = int(((2 * halfWindow + 1) ** 2) / 2)\n",
        "    return [[err, bestNeigh[i][j]] for i, err in enumerate(ssd) if err <= min_error*(1+Error_Threshold)]\n",
        "\n"
      ],
      "metadata": {
        "id": "zlMGABsAi7aH"
      },
      "execution_count": 4,
      "outputs": []
    },
    {
      "cell_type": "code",
      "source": [
        "def preprocess(file_input,mask_input):\n",
        "  img_grayscale = color.rgb2gray(io.imread(file_input))\n",
        "  img_mask = color.rgb2gray(cv2.imread(mask_input))\n",
        "  print(np.shape(img_grayscale))\n",
        "\n",
        "  x = np.where(img_mask>0.9)\n",
        "  for i in range(len(x[0])):\n",
        "    img_grayscale[x[0][i]][x[1][i]]=0\n",
        "    img_mask[x[0][i]][x[1][i]]=1\n",
        "\n",
        "    img_mask = np.floor(img_mask)\n",
        "\n",
        "  return img_grayscale,img_mask\n",
        "\n",
        "\n",
        "\n"
      ],
      "metadata": {
        "id": "9ad2DtvHjaSt"
      },
      "execution_count": 19,
      "outputs": []
    },
    {
      "cell_type": "code",
      "source": [
        "if __name__ == '__main__':\n",
        "\n",
        "    logging.basicConfig(filename=\"runTime.log\", level=logging.INFO)\n",
        "\n",
        "    filePath = \"/content/gdrive/My Drive/Colab Notebooks/\"\n",
        "\n",
        "    for windowSize in [9]:\n",
        "        start = time.time()\n",
        "        file_input=\"/content/gdrive/My Drive/Colab Notebooks/test_im3.bmp\"\n",
        "        mask_input=\"/content/gdrive/My Drive/Colab Notebooks/mask1.bmp\"\n",
        "        ip,m=preprocess(file_input,mask_input)\n",
        "        textureGrowth(ip, windowSize,\"/content/gdrive/My Drive/Colab Notebooks/test_im3.bmp\")\n",
        "        end = time.time()\n",
        "            #Calculate and log the running times\n",
        "        logging.info(\"\\t\"+file_input+\"-\"+str(windowSize)+\"\\t:-  \"+str(end-start)+\" secs\")\n"
      ],
      "metadata": {
        "colab": {
          "base_uri": "https://localhost:8080/",
          "height": 415
        },
        "id": "FJD807bLi-w6",
        "outputId": "3bf5bde1-0d7c-4c85-a002-32564b1c29b1"
      },
      "execution_count": 31,
      "outputs": [
        {
          "output_type": "stream",
          "name": "stdout",
          "text": [
            "(667, 1000)\n",
            "(667, 1000)\n",
            "96%"
          ]
        },
        {
          "output_type": "error",
          "ename": "KeyboardInterrupt",
          "evalue": "ignored",
          "traceback": [
            "\u001b[0;31m---------------------------------------------------------------------------\u001b[0m",
            "\u001b[0;31mKeyboardInterrupt\u001b[0m                         Traceback (most recent call last)",
            "\u001b[0;32m<ipython-input-31-62faefea8a7d>\u001b[0m in \u001b[0;36m<module>\u001b[0;34m()\u001b[0m\n\u001b[1;32m     10\u001b[0m         \u001b[0mmask_input\u001b[0m\u001b[0;34m=\u001b[0m\u001b[0;34m\"/content/gdrive/My Drive/Colab Notebooks/mask1.bmp\"\u001b[0m\u001b[0;34m\u001b[0m\u001b[0;34m\u001b[0m\u001b[0m\n\u001b[1;32m     11\u001b[0m         \u001b[0mip\u001b[0m\u001b[0;34m,\u001b[0m\u001b[0mm\u001b[0m\u001b[0;34m=\u001b[0m\u001b[0mpreprocess\u001b[0m\u001b[0;34m(\u001b[0m\u001b[0mfile_input\u001b[0m\u001b[0;34m,\u001b[0m\u001b[0mmask_input\u001b[0m\u001b[0;34m)\u001b[0m\u001b[0;34m\u001b[0m\u001b[0;34m\u001b[0m\u001b[0m\n\u001b[0;32m---> 12\u001b[0;31m         \u001b[0mtextureGrowth\u001b[0m\u001b[0;34m(\u001b[0m\u001b[0mip\u001b[0m\u001b[0;34m,\u001b[0m \u001b[0mwindowSize\u001b[0m\u001b[0;34m,\u001b[0m\u001b[0;34m\"/content/gdrive/My Drive/Colab Notebooks/test_im3.bmp\"\u001b[0m\u001b[0;34m)\u001b[0m\u001b[0;34m\u001b[0m\u001b[0;34m\u001b[0m\u001b[0m\n\u001b[0m\u001b[1;32m     13\u001b[0m         \u001b[0mend\u001b[0m \u001b[0;34m=\u001b[0m \u001b[0mtime\u001b[0m\u001b[0;34m.\u001b[0m\u001b[0mtime\u001b[0m\u001b[0;34m(\u001b[0m\u001b[0;34m)\u001b[0m\u001b[0;34m\u001b[0m\u001b[0;34m\u001b[0m\u001b[0m\n\u001b[1;32m     14\u001b[0m             \u001b[0;31m#Calculate and log the running times\u001b[0m\u001b[0;34m\u001b[0m\u001b[0;34m\u001b[0m\u001b[0;34m\u001b[0m\u001b[0m\n",
            "\u001b[0;32m<ipython-input-27-bdfb6917432d>\u001b[0m in \u001b[0;36mtextureGrowth\u001b[0;34m(imageFile, windowSize, Path)\u001b[0m\n\u001b[1;32m     41\u001b[0m             \u001b[0mtemplate\u001b[0m \u001b[0;34m=\u001b[0m \u001b[0msynthImagePad\u001b[0m\u001b[0;34m[\u001b[0m\u001b[0mpixelList\u001b[0m\u001b[0;34m[\u001b[0m\u001b[0;36m0\u001b[0m\u001b[0;34m]\u001b[0m\u001b[0;34m[\u001b[0m\u001b[0mi\u001b[0m\u001b[0;34m]\u001b[0m \u001b[0;34m-\u001b[0m \u001b[0mhalfWindow\u001b[0m \u001b[0;34m+\u001b[0m \u001b[0mhalfWindow\u001b[0m\u001b[0;34m:\u001b[0m\u001b[0mpixelList\u001b[0m\u001b[0;34m[\u001b[0m\u001b[0;36m0\u001b[0m\u001b[0;34m]\u001b[0m\u001b[0;34m[\u001b[0m\u001b[0mi\u001b[0m\u001b[0;34m]\u001b[0m \u001b[0;34m+\u001b[0m \u001b[0mhalfWindow\u001b[0m \u001b[0;34m+\u001b[0m \u001b[0mhalfWindow\u001b[0m \u001b[0;34m+\u001b[0m \u001b[0;36m1\u001b[0m\u001b[0;34m,\u001b[0m \u001b[0mpixelList\u001b[0m\u001b[0;34m[\u001b[0m\u001b[0;36m1\u001b[0m\u001b[0;34m]\u001b[0m\u001b[0;34m[\u001b[0m\u001b[0mi\u001b[0m\u001b[0;34m]\u001b[0m \u001b[0;34m-\u001b[0m \u001b[0mhalfWindow\u001b[0m \u001b[0;34m+\u001b[0m \u001b[0mhalfWindow\u001b[0m\u001b[0;34m:\u001b[0m\u001b[0mpixelList\u001b[0m\u001b[0;34m[\u001b[0m\u001b[0;36m1\u001b[0m\u001b[0;34m]\u001b[0m\u001b[0;34m[\u001b[0m\u001b[0mi\u001b[0m\u001b[0;34m]\u001b[0m \u001b[0;34m+\u001b[0m \u001b[0mhalfWindow\u001b[0m \u001b[0;34m+\u001b[0m \u001b[0mhalfWindow\u001b[0m \u001b[0;34m+\u001b[0m \u001b[0;36m1\u001b[0m\u001b[0;34m]\u001b[0m\u001b[0;34m\u001b[0m\u001b[0;34m\u001b[0m\u001b[0m\n\u001b[1;32m     42\u001b[0m             \u001b[0mvalidMask\u001b[0m \u001b[0;34m=\u001b[0m \u001b[0mfilledMapPad\u001b[0m\u001b[0;34m[\u001b[0m\u001b[0mpixelList\u001b[0m\u001b[0;34m[\u001b[0m\u001b[0;36m0\u001b[0m\u001b[0;34m]\u001b[0m\u001b[0;34m[\u001b[0m\u001b[0mi\u001b[0m\u001b[0;34m]\u001b[0m \u001b[0;34m-\u001b[0m \u001b[0mhalfWindow\u001b[0m \u001b[0;34m+\u001b[0m \u001b[0mhalfWindow\u001b[0m\u001b[0;34m:\u001b[0m\u001b[0mpixelList\u001b[0m\u001b[0;34m[\u001b[0m\u001b[0;36m0\u001b[0m\u001b[0;34m]\u001b[0m\u001b[0;34m[\u001b[0m\u001b[0mi\u001b[0m\u001b[0;34m]\u001b[0m \u001b[0;34m+\u001b[0m \u001b[0mhalfWindow\u001b[0m \u001b[0;34m+\u001b[0m \u001b[0mhalfWindow\u001b[0m \u001b[0;34m+\u001b[0m \u001b[0;36m1\u001b[0m\u001b[0;34m,\u001b[0m \u001b[0mpixelList\u001b[0m\u001b[0;34m[\u001b[0m\u001b[0;36m1\u001b[0m\u001b[0;34m]\u001b[0m\u001b[0;34m[\u001b[0m\u001b[0mi\u001b[0m\u001b[0;34m]\u001b[0m \u001b[0;34m-\u001b[0m \u001b[0mhalfWindow\u001b[0m \u001b[0;34m+\u001b[0m \u001b[0mhalfWindow\u001b[0m\u001b[0;34m:\u001b[0m\u001b[0mpixelList\u001b[0m\u001b[0;34m[\u001b[0m\u001b[0;36m1\u001b[0m\u001b[0;34m]\u001b[0m\u001b[0;34m[\u001b[0m\u001b[0mi\u001b[0m\u001b[0;34m]\u001b[0m \u001b[0;34m+\u001b[0m \u001b[0mhalfWindow\u001b[0m \u001b[0;34m+\u001b[0m \u001b[0mhalfWindow\u001b[0m \u001b[0;34m+\u001b[0m \u001b[0;36m1\u001b[0m\u001b[0;34m]\u001b[0m\u001b[0;34m\u001b[0m\u001b[0;34m\u001b[0m\u001b[0m\n\u001b[0;32m---> 43\u001b[0;31m             \u001b[0mbestMatches\u001b[0m \u001b[0;34m=\u001b[0m \u001b[0mfindMatches\u001b[0m\u001b[0;34m(\u001b[0m\u001b[0mtemplate\u001b[0m\u001b[0;34m,\u001b[0m\u001b[0mbestNeigh\u001b[0m\u001b[0;34m,\u001b[0m\u001b[0mvalidMask\u001b[0m\u001b[0;34m,\u001b[0m\u001b[0mgaussMask\u001b[0m\u001b[0;34m,\u001b[0m\u001b[0mwindowSize\u001b[0m\u001b[0;34m,\u001b[0m \u001b[0mhalfWindow\u001b[0m\u001b[0;34m,\u001b[0m \u001b[0mError_Threshold\u001b[0m\u001b[0;34m)\u001b[0m\u001b[0;34m\u001b[0m\u001b[0;34m\u001b[0m\u001b[0m\n\u001b[0m\u001b[1;32m     44\u001b[0m             \u001b[0;31m# Random picking of best matches\u001b[0m\u001b[0;34m\u001b[0m\u001b[0;34m\u001b[0m\u001b[0;34m\u001b[0m\u001b[0m\n\u001b[1;32m     45\u001b[0m             \u001b[0mbestMatch\u001b[0m \u001b[0;34m=\u001b[0m \u001b[0mrandom\u001b[0m\u001b[0;34m.\u001b[0m\u001b[0mrandint\u001b[0m\u001b[0;34m(\u001b[0m\u001b[0;36m0\u001b[0m\u001b[0;34m,\u001b[0m \u001b[0mlen\u001b[0m\u001b[0;34m(\u001b[0m\u001b[0mbestMatches\u001b[0m\u001b[0;34m)\u001b[0m\u001b[0;34m-\u001b[0m\u001b[0;36m1\u001b[0m\u001b[0;34m)\u001b[0m\u001b[0;34m\u001b[0m\u001b[0;34m\u001b[0m\u001b[0m\n",
            "\u001b[0;32m<ipython-input-4-726d908fae41>\u001b[0m in \u001b[0;36mfindMatches\u001b[0;34m(template, bestNeigh, valid_mask, gauss_mask, windowSize, halfWindow, Error_Threshold)\u001b[0m\n\u001b[1;32m      9\u001b[0m     \u001b[0mmin_error\u001b[0m \u001b[0;34m=\u001b[0m \u001b[0mmin\u001b[0m\u001b[0;34m(\u001b[0m\u001b[0mssd\u001b[0m\u001b[0;34m)\u001b[0m\u001b[0;34m\u001b[0m\u001b[0;34m\u001b[0m\u001b[0m\n\u001b[1;32m     10\u001b[0m     \u001b[0mj\u001b[0m \u001b[0;34m=\u001b[0m \u001b[0mint\u001b[0m\u001b[0;34m(\u001b[0m\u001b[0;34m(\u001b[0m\u001b[0;34m(\u001b[0m\u001b[0;36m2\u001b[0m \u001b[0;34m*\u001b[0m \u001b[0mhalfWindow\u001b[0m \u001b[0;34m+\u001b[0m \u001b[0;36m1\u001b[0m\u001b[0;34m)\u001b[0m \u001b[0;34m**\u001b[0m \u001b[0;36m2\u001b[0m\u001b[0;34m)\u001b[0m \u001b[0;34m/\u001b[0m \u001b[0;36m2\u001b[0m\u001b[0;34m)\u001b[0m\u001b[0;34m\u001b[0m\u001b[0;34m\u001b[0m\u001b[0m\n\u001b[0;32m---> 11\u001b[0;31m     \u001b[0;32mreturn\u001b[0m \u001b[0;34m[\u001b[0m\u001b[0;34m[\u001b[0m\u001b[0merr\u001b[0m\u001b[0;34m,\u001b[0m \u001b[0mbestNeigh\u001b[0m\u001b[0;34m[\u001b[0m\u001b[0mi\u001b[0m\u001b[0;34m]\u001b[0m\u001b[0;34m[\u001b[0m\u001b[0mj\u001b[0m\u001b[0;34m]\u001b[0m\u001b[0;34m]\u001b[0m \u001b[0;32mfor\u001b[0m \u001b[0mi\u001b[0m\u001b[0;34m,\u001b[0m \u001b[0merr\u001b[0m \u001b[0;32min\u001b[0m \u001b[0menumerate\u001b[0m\u001b[0;34m(\u001b[0m\u001b[0mssd\u001b[0m\u001b[0;34m)\u001b[0m \u001b[0;32mif\u001b[0m \u001b[0merr\u001b[0m \u001b[0;34m<=\u001b[0m \u001b[0mmin_error\u001b[0m\u001b[0;34m*\u001b[0m\u001b[0;34m(\u001b[0m\u001b[0;36m1\u001b[0m\u001b[0;34m+\u001b[0m\u001b[0mError_Threshold\u001b[0m\u001b[0;34m)\u001b[0m\u001b[0;34m]\u001b[0m\u001b[0;34m\u001b[0m\u001b[0;34m\u001b[0m\u001b[0m\n\u001b[0m\u001b[1;32m     12\u001b[0m \u001b[0;34m\u001b[0m\u001b[0m\n",
            "\u001b[0;32m<ipython-input-4-726d908fae41>\u001b[0m in \u001b[0;36m<listcomp>\u001b[0;34m(.0)\u001b[0m\n\u001b[1;32m      9\u001b[0m     \u001b[0mmin_error\u001b[0m \u001b[0;34m=\u001b[0m \u001b[0mmin\u001b[0m\u001b[0;34m(\u001b[0m\u001b[0mssd\u001b[0m\u001b[0;34m)\u001b[0m\u001b[0;34m\u001b[0m\u001b[0;34m\u001b[0m\u001b[0m\n\u001b[1;32m     10\u001b[0m     \u001b[0mj\u001b[0m \u001b[0;34m=\u001b[0m \u001b[0mint\u001b[0m\u001b[0;34m(\u001b[0m\u001b[0;34m(\u001b[0m\u001b[0;34m(\u001b[0m\u001b[0;36m2\u001b[0m \u001b[0;34m*\u001b[0m \u001b[0mhalfWindow\u001b[0m \u001b[0;34m+\u001b[0m \u001b[0;36m1\u001b[0m\u001b[0;34m)\u001b[0m \u001b[0;34m**\u001b[0m \u001b[0;36m2\u001b[0m\u001b[0;34m)\u001b[0m \u001b[0;34m/\u001b[0m \u001b[0;36m2\u001b[0m\u001b[0;34m)\u001b[0m\u001b[0;34m\u001b[0m\u001b[0;34m\u001b[0m\u001b[0m\n\u001b[0;32m---> 11\u001b[0;31m     \u001b[0;32mreturn\u001b[0m \u001b[0;34m[\u001b[0m\u001b[0;34m[\u001b[0m\u001b[0merr\u001b[0m\u001b[0;34m,\u001b[0m \u001b[0mbestNeigh\u001b[0m\u001b[0;34m[\u001b[0m\u001b[0mi\u001b[0m\u001b[0;34m]\u001b[0m\u001b[0;34m[\u001b[0m\u001b[0mj\u001b[0m\u001b[0;34m]\u001b[0m\u001b[0;34m]\u001b[0m \u001b[0;32mfor\u001b[0m \u001b[0mi\u001b[0m\u001b[0;34m,\u001b[0m \u001b[0merr\u001b[0m \u001b[0;32min\u001b[0m \u001b[0menumerate\u001b[0m\u001b[0;34m(\u001b[0m\u001b[0mssd\u001b[0m\u001b[0;34m)\u001b[0m \u001b[0;32mif\u001b[0m \u001b[0merr\u001b[0m \u001b[0;34m<=\u001b[0m \u001b[0mmin_error\u001b[0m\u001b[0;34m*\u001b[0m\u001b[0;34m(\u001b[0m\u001b[0;36m1\u001b[0m\u001b[0;34m+\u001b[0m\u001b[0mError_Threshold\u001b[0m\u001b[0;34m)\u001b[0m\u001b[0;34m]\u001b[0m\u001b[0;34m\u001b[0m\u001b[0;34m\u001b[0m\u001b[0m\n\u001b[0m\u001b[1;32m     12\u001b[0m \u001b[0;34m\u001b[0m\u001b[0m\n",
            "\u001b[0;31mKeyboardInterrupt\u001b[0m: "
          ]
        }
      ]
    }
  ]
}