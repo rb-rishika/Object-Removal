{
  "cells": [
    {
      "cell_type": "code",
      "execution_count": 2,
      "metadata": {
        "colab": {
          "base_uri": "https://localhost:8080/"
        },
        "id": "Xsj_7GQeXXxq",
        "outputId": "4201cba0-b236-43d3-8cd8-70154b3e549c"
      },
      "outputs": [
        {
          "output_type": "stream",
          "name": "stdout",
          "text": [
            "Mounted at /content/gdrive\n"
          ]
        }
      ],
      "source": [
        "import numpy as np\n",
        "from scipy import spatial\n",
        "from scipy.ndimage import gaussian_filter, sobel\n",
        "import matplotlib.pyplot as plt\n",
        "from matplotlib import cm\n",
        "from skimage import data, color, img_as_float, io\n",
        "from skimage.morphology import erosion, disk\n",
        "import time\n",
        "from math import *\n",
        "from google.colab import drive\n",
        "import copy\n",
        "drive.mount('/content/gdrive')\n"
      ]
    },
    {
      "cell_type": "code",
      "execution_count": 3,
      "metadata": {
        "id": "ZAkNspD8ap6P"
      },
      "outputs": [],
      "source": [
        "def get_patches(img, points, size_w):\n",
        "    patches=[]\n",
        "    img3=np.lib.pad(img, ((size_w//2, size_w//2),(size_w//2,size_w//2)), 'edge')\n",
        "    for i in points:\n",
        "        patches.append(np.array(img3[i[0]:i[0]+2*size_w//2, i[1]:i[1]+2*size_w//2].flatten()))\n",
        "        \n",
        "    return patches\n"
      ]
    },
    {
      "cell_type": "code",
      "source": [
        "def similarity(sim, patches1, patches2, maskinv, corner_pos1,corner_pos2):\n",
        "\n",
        "    patches2 = [x*maskinv for x in patches2]\n",
        "    \n",
        "    patches1=patches1*maskinv\n",
        "    matchall=spatial.distance.cdist(patches1, patches2, sim)\n",
        "    \n",
        "    match=[]\n",
        "    for i in range(matchall.shape[0]):\n",
        "        match.append((corner_pos1, corner_pos2[np.argmin(matchall[i])]))\n",
        "\n",
        "    return match\n"
      ],
      "metadata": {
        "id": "VWTMmYtKrTeA"
      },
      "execution_count": 4,
      "outputs": []
    },
    {
      "cell_type": "code",
      "source": [
        "def calc_pivot(border_I, confidence, newImg):\n",
        "    for idx, i in enumerate(border_I):\n",
        "        blurredpatch=get_patches(imgblur, [i], size_w)[0].reshape((size_w,size_w))\n",
        "        patchmask=get_patches(masknew, [i], size_w)[0].reshape((size_w,size_w))\n",
        "        dx = sobel(blurredpatch, axis=0)\n",
        "        dy = -sobel(blurredpatch, axis=1)\n",
        "        nx = sobel(patchmask, axis=0)\n",
        "        ny = sobel(patchmask, axis=1) \n",
        "\n",
        "        mod = np.sqrt(dx ** 2 + dy ** 2)\n",
        "        modI=(np.unravel_index(mod.argmax(), mod.shape))\n",
        "        \n",
        "        v1=np.array([dx[modI[0],modI[1]],dy[modI[0],modI[1]]])\n",
        "        v2=np.array([ny[halfWindowSize,halfWindowSize],nx[halfWindowSize,halfWindowSize]]).T\n",
        "        \n",
        "        D = abs(np.dot(v1,v2/np.linalg.norm(v2)))\n",
        "        D /= (sqrt(dy[modI[0], modI[1]] ** 2 + dx[modI[0], modI[1]] ** 2) *\n",
        "        sqrt(nx[halfWindowSize,halfWindowSize] ** 2 + ny[halfWindowSize,halfWindowSize] ** 2))\n",
        "        \n",
        "        border_C[idx]=confidence[i[0],i[1]]*D\n",
        "        \n",
        "    indx=np.argmax(border_C)\n",
        "    maxI = border_I[indx]\n",
        "    return maxI\n"
      ],
      "metadata": {
        "id": "UyOrg2r4rXyh"
      },
      "execution_count": 5,
      "outputs": []
    },
    {
      "cell_type": "code",
      "source": [
        "if __name__ == \"__main__\":\n",
        "    img_names = \"/content/gdrive/My Drive/Colab Notebooks/test_im3.bmp\"\n",
        "    output_path=\"CriminisiAlG/results/\"\n",
        "    output_name = [\"result3.bmp\"]\n",
        "    mask_name = [\"mask3.bmp\"]\n",
        "    patchSize = [11]\n",
        "\n",
        "    for i in range(1):\n",
        "        for size_w in patchSize:\n",
        "            RGB_img1 = io.imread(str(img_names))\n",
        "            img1 = img_as_float(color.rgb2gray(RGB_img1))\n",
        "\n",
        "            RGB_mask = io.imread(str(\"/content/gdrive/My Drive/Colab Notebooks/\"+mask_name[i]))\n",
        "            mask = img_as_float(color.rgb2gray(RGB_mask))\n",
        "            halfWindowSize = size_w // 2\n",
        "\n",
        "            masknew=mask.copy()\n",
        "            newImg = img1.copy()\n",
        "            imgblur = gaussian_filter(newImg, sigma=1, order=0)\n",
        "            max_x_shape, max_y_shape = newImg.shape\n",
        "            start_time = time.time()\n",
        "  \n",
        "            patchesIndex = [(ix,iy) for ix, row in enumerate(newImg) for iy, i in enumerate(row) if (ix>size_w and iy>size_w and ix<newImg.shape[0]-size_w and iy<newImg.shape[1]-size_w and ix%halfWindowSize==0 and iy%halfWindowSize==0) and (1 not in get_patches(mask, [(ix,iy)], size_w)[0])]\n",
        "            patches = get_patches(newImg, patchesIndex, size_w)\n",
        "\n",
        "            confidence = 1. - masknew.copy()\n",
        "\n",
        "            border = masknew - erosion(masknew, disk(1))\n",
        "            border_I =  [(ix,iy) for ix, row in enumerate(border) for iy, i in enumerate(row) if i==1]  \n",
        "            border_C=[0] * len(border_I)\n",
        "\n",
        "            \n",
        "            for idx, i in enumerate(border_I):\n",
        "                confidence[i[0],i[1]]=sum(get_patches(confidence, [i], size_w)[0])/size_w**2\n",
        "                \n",
        "            while (masknew==1).sum()>0 :\n",
        "                border = masknew - erosion(masknew, disk(1))\n",
        "                border_I = [(ix,iy) for ix, row in enumerate(border) for iy, i in enumerate(row) if i==1 ]  \n",
        "                border_C = [0] * len(border_I)\n",
        "                \n",
        "                pivotI = calc_pivot(border_I, confidence, newImg)\n",
        "                \n",
        "\n",
        "                pivotPatch = get_patches(newImg, [pivotI], size_w)\n",
        "\n",
        "                maskpatch = -(get_patches(masknew, [pivotI], size_w)[0]-1)\n",
        "                match = similarity('euclidean', pivotPatch, patches, maskpatch, pivotI, patchesIndex)\n",
        "\n",
        "                pivotI_xmin=match[0][0][0]-halfWindowSize\n",
        "                pivotI_xmax=match[0][0][0]+halfWindowSize\n",
        "                pivotI_ymin=match[0][0][1]-halfWindowSize\n",
        "                pivotI_ymax=match[0][0][1]+halfWindowSize\n",
        "                \n",
        "                match_xmin=match[0][1][0]-halfWindowSize\n",
        "                match_xmax=match[0][1][0]+halfWindowSize\n",
        "                match_ymin=match[0][1][1]-halfWindowSize\n",
        "                match_ymax=match[0][1][1]+halfWindowSize\n",
        "\n",
        "                if pivotI_xmin < 0:\n",
        "                    newImg[0:pivotI_xmax, pivotI_ymin:pivotI_ymax]=newImg[match_xmin-pivotI_xmin:match_xmax, match_ymin:match_ymax]\n",
        "                    masknew[0:pivotI_xmax, pivotI_ymin:pivotI_ymax]=0\n",
        "                elif pivotI_ymin < 0:\n",
        "                    newImg[pivotI_xmin:pivotI_xmax, 0:pivotI_ymax]=newImg[match_xmin:match_xmax, match_ymin-pivotI_ymin:match_ymax]\n",
        "                    masknew[pivotI_xmin:pivotI_xmax, 0:pivotI_ymax]=0\n",
        "                elif pivotI_xmax > max_x_shape:\n",
        "                    newImg[pivotI_xmin:max_x_shape, pivotI_ymin:pivotI_ymax]=newImg[match_xmin:match_xmax-pivotI_xmax+max_x_shape, match_ymin:match_ymax]\n",
        "                    masknew[pivotI_xmin:max_x_shape, pivotI_ymin:pivotI_ymax]=0\n",
        "                elif pivotI_ymax > max_y_shape:\n",
        "                    newImg[pivotI_xmin:pivotI_xmax, pivotI_ymin:pivotI_ymax]=newImg[match_xmin:match_xmax, match_ymin:match_ymax-pivotI_ymax+max_y_shape]\n",
        "                    masknew[pivotI_xmin:pivotI_xmax, pivotI_ymin:pivotI_ymax]=0   \n",
        "                else:\n",
        "                    newImg[pivotI_xmin:pivotI_xmax, pivotI_ymin:pivotI_ymax]=newImg[match_xmin:match_xmax, match_ymin:match_ymax]\n",
        "                    masknew[pivotI_xmin:pivotI_xmax, pivotI_ymin:pivotI_ymax]=0\n",
        "\n",
        "                pivotI_xmin = match[0][0][0]-halfWindowSize\n",
        "                pivotI_xmax = match[0][0][0]+halfWindowSize\n",
        "                pivotI_ymin = match[0][0][1]-halfWindowSize\n",
        "                pivotI_ymax = match[0][0][1]+halfWindowSize\n",
        "                \n",
        "                match_xmin = match[0][1][0]-halfWindowSize\n",
        "                match_xmax = match[0][1][0]+halfWindowSize\n",
        "                match_ymin = match[0][1][1]-halfWindowSize\n",
        "                match_ymax = match[0][1][1]+halfWindowSize\n",
        "                if pivotI_xmin < 0:\n",
        "                    confidence[0:pivotI_xmax, pivotI_ymin:pivotI_ymax]=confidence[match_xmin-pivotI_xmin:match_xmax, match_ymin:match_ymax]\n",
        "                elif pivotI_ymin < 0:\n",
        "                    confidence[pivotI_xmin:pivotI_xmax, 0:pivotI_ymax]=confidence[match_xmin:match_xmax, match_ymin-pivotI_ymin:match_ymax]\n",
        "                elif pivotI_xmax > max_x_shape:\n",
        "                    confidence[pivotI_xmin:max_x_shape, pivotI_ymin:pivotI_ymax]=newImg[match_xmin:match_xmax-pivotI_xmax+max_x_shape, match_ymin:match_ymax]\n",
        "                elif pivotI_ymax > max_y_shape:\n",
        "                    confidence[pivotI_xmin:pivotI_xmax, pivotI_ymin:pivotI_ymax]=newImg[match_xmin:match_xmax, match_ymin:match_ymax-pivotI_ymax+max_y_shape]\n",
        "                else:\n",
        "                    confidence[pivotI_xmin:pivotI_xmax, pivotI_ymin:pivotI_ymax]=confidence[match_xmin:match_xmax, match_ymin:match_ymax]\n",
        "\n",
        "            print(\"--- %s seconds ---\" % (time.time() - start_time))\n",
        "            io.imsave(img_names.split('.')[0]+\"Criminisi.bmp\", newImg)"
      ],
      "metadata": {
        "colab": {
          "base_uri": "https://localhost:8080/"
        },
        "id": "tv_f4zsBrcCl",
        "outputId": "e3b1bc2e-0e7d-4fd8-f29e-9176de3dc557"
      },
      "execution_count": 7,
      "outputs": [
        {
          "output_type": "stream",
          "name": "stderr",
          "text": [
            "/usr/local/lib/python3.7/dist-packages/ipykernel_launcher.py:16: RuntimeWarning: invalid value encountered in true_divide\n",
            "  app.launch_new_instance()\n",
            "WARNING:root:Lossy conversion from float64 to uint8. Range [0, 1]. Convert image to uint8 prior to saving to suppress this warning.\n"
          ]
        },
        {
          "output_type": "stream",
          "name": "stdout",
          "text": [
            "--- 154.3599202632904 seconds ---\n"
          ]
        }
      ]
    }
  ],
  "metadata": {
    "colab": {
      "collapsed_sections": [],
      "name": "Criminisi Object Removal.ipynb",
      "provenance": []
    },
    "kernelspec": {
      "display_name": "Python 3",
      "name": "python3"
    },
    "language_info": {
      "name": "python"
    }
  },
  "nbformat": 4,
  "nbformat_minor": 0
}